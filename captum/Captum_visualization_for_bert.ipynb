{
 "cells": [
  {
   "cell_type": "markdown",
   "metadata": {},
   "source": [
    "# Captum Visual Insights for BERT Seq Classification Model"
   ]
  },
  {
   "cell_type": "markdown",
   "metadata": {},
   "source": [
    "This Notebook helps you to get started with the Captum Insights.The example covered here is from the Hugginface Transformers pre-trained model used in Torchserve.In order to understand the word importances and attributions when we make an Explanation Request, we use Captum Insights"
   ]
  },
  {
   "cell_type": "code",
   "execution_count": 1,
   "metadata": {},
   "outputs": [],
   "source": [
    "import json\n",
    "import captum\n",
    "from captum.attr import visualization as viz\n",
    "import os\n",
    "import logging\n",
    "import numpy as np\n",
    "import json\n",
    "import torch\n",
    "from transformers import AutoTokenizer"
   ]
  },
  {
   "cell_type": "markdown",
   "metadata": {},
   "source": [
    "Create the mar file for the BERTSeqClassification model and place the artefacts from where you can serve the model. \n"
   ]
  },
  {
   "cell_type": "code",
   "execution_count": 2,
   "metadata": {},
   "outputs": [
    {
     "name": "stdout",
     "output_type": "stream",
     "text": [
      "/bin/sh: 1: torch-model-archiver: not found\r\n"
     ]
    }
   ],
   "source": [
    "!torch-model-archiver --model-name bert_explain --version 1.0 --serialized-file Transformer_model/pytorch_model.bin --handler Transformer_model/Transformer_handler_generalized.py --extra-files \"Transformer_model/config.json,Transformer_model/setup_config.json,Transformer_model/index_to_name.json,Transformer_model/vocab.txt\""
   ]
  },
  {
   "cell_type": "code",
   "execution_count": 3,
   "metadata": {},
   "outputs": [
    {
     "name": "stdout",
     "output_type": "stream",
     "text": [
      "Accepted"
     ]
    }
   ],
   "source": [
    "#curl request to make a Prediction Request\n",
    "!curl -H \"Content-Type: application/json\" --data @examples/Huggingface_Transformers/bert_ts.json http://127.0.0.1:8080/predictions/bert_explain"
   ]
  },
  {
   "cell_type": "markdown",
   "metadata": {},
   "source": [
    "Make a Explanation response for the bert model by specifying body in the service envelope in the config.properties file, like below:\n",
    "\n",
    "```\n",
    "service_envelope=body\n",
    "```\n",
    "When a json file is passed as a request format to the curl, Torchserve unwraps the json file from the request body. This is the reason for specifying service_envelope=body in the config.properties file"
   ]
  },
  {
   "cell_type": "code",
   "execution_count": 4,
   "metadata": {},
   "outputs": [
    {
     "name": "stdout",
     "output_type": "stream",
     "text": [
      "{\r\n",
      "  \"importances\": [\r\n",
      "    0.0,\r\n",
      "    -0.6324464886855062,\r\n",
      "    -0.03311582455592391,\r\n",
      "    0.26816950103292936,\r\n",
      "    -0.29124773714666485,\r\n",
      "    0.5422589134206756,\r\n",
      "    -0.3848765077942276,\r\n",
      "    0.0\r\n",
      "  ],\r\n",
      "  \"words\": [\r\n",
      "    \"[CLS]\",\r\n",
      "    \"bloomberg\",\r\n",
      "    \"has\",\r\n",
      "    \"reported\",\r\n",
      "    \"on\",\r\n",
      "    \"the\",\r\n",
      "    \"economy\",\r\n",
      "    \"[SEP]\"\r\n",
      "  ],\r\n",
      "  \"delta\": -0.0007350820187373014\r\n",
      "}"
     ]
    }
   ],
   "source": [
    "#curl command to make an Explanation Request and the response is as below:\n",
    "#bert_ts.json file contains the input for the inference request\n",
    "!curl -H \"Content-Type: application/json\" --data @examples/Huggingface_Transformers/bert_ts.json http://127.0.0.1:8080/explanations/bert_explain"
   ]
  },
  {
   "cell_type": "markdown",
   "metadata": {},
   "source": [
    "The above explanation response is present in the bert_response.json. From the BERT_Response.json file the attributions, importances and delta key-value pair are loaded"
   ]
  },
  {
   "cell_type": "code",
   "execution_count": 5,
   "metadata": {},
   "outputs": [],
   "source": [
    "input_file=open('./bert_response.json', 'r')\n",
    "input_json = json.load(input_file)"
   ]
  },
  {
   "cell_type": "code",
   "execution_count": 6,
   "metadata": {},
   "outputs": [],
   "source": [
    "attributions = input_json['explanations'][0]['importances']\n",
    "words = input_json['explanations'][0]['words']\n",
    "delta = input_json['explanations'][0]['delta']\n"
   ]
  },
  {
   "cell_type": "markdown",
   "metadata": {},
   "source": [
    "For visualization purpose using Captum, the attributions and delta parameters should be in the form of Torch Tensors. "
   ]
  },
  {
   "cell_type": "markdown",
   "metadata": {},
   "source": [
    "Making the arguments ready to be passed on to the VisualizationDataRecord method.The argument for predictions is given as 1(a random probability) in the VisualizationDataRecord method since it is not mandatory "
   ]
  },
  {
   "cell_type": "code",
   "execution_count": 7,
   "metadata": {},
   "outputs": [],
   "source": [
    "\n",
    "attributions = torch.tensor(attributions)\n",
    "predictions = 1\n",
    "label = 'Not Accepted'\n",
    "true_label = 'Accepted'"
   ]
  },
  {
   "cell_type": "markdown",
   "metadata": {},
   "source": [
    "Using the Visualization Data Record method from Captum's Visualization toolkit to render the visualization"
   ]
  },
  {
   "cell_type": "code",
   "execution_count": 8,
   "metadata": {},
   "outputs": [],
   "source": [
    "\n",
    "result = viz.VisualizationDataRecord(\n",
    "                        attributions,\n",
    "                        predictions,\n",
    "                        label,\n",
    "                        true_label,\n",
    "                        label,\n",
    "                        attributions.sum(),       \n",
    "                        words,\n",
    "                        delta)    \n"
   ]
  },
  {
   "cell_type": "code",
   "execution_count": 9,
   "metadata": {},
   "outputs": [
    {
     "data": {
      "text/html": [
       "<table width: 100%><tr><th>True Label</th><th>Predicted Label</th><th>Attribution Label</th><th>Attribution Score</th><th>Word Importance</th><tr><td><text style=\"padding-right:2em\"><b>Accepted</b></text></td><td><text style=\"padding-right:2em\"><b>Not Accepted (1.00)</b></text></td><td><text style=\"padding-right:2em\"><b>Not Accepted</b></text></td><td><text style=\"padding-right:2em\"><b>-0.04</b></text></td><td><mark style=\"background-color: hsl(0, 75%, 100%); opacity:1.0;                     line-height:1.75\"><font color=\"black\"> [CLS]                    </font></mark><mark style=\"background-color: hsl(0, 75%, 95%); opacity:1.0;                     line-height:1.75\"><font color=\"black\"> the                    </font></mark><mark style=\"background-color: hsl(120, 75%, 87%); opacity:1.0;                     line-height:1.75\"><font color=\"black\"> recent                    </font></mark><mark style=\"background-color: hsl(0, 75%, 98%); opacity:1.0;                     line-height:1.75\"><font color=\"black\"> climate                    </font></mark><mark style=\"background-color: hsl(120, 75%, 96%); opacity:1.0;                     line-height:1.75\"><font color=\"black\"> change                    </font></mark><mark style=\"background-color: hsl(120, 75%, 76%); opacity:1.0;                     line-height:1.75\"><font color=\"black\"> across                    </font></mark><mark style=\"background-color: hsl(0, 75%, 82%); opacity:1.0;                     line-height:1.75\"><font color=\"black\"> world                    </font></mark><mark style=\"background-color: hsl(120, 75%, 76%); opacity:1.0;                     line-height:1.75\"><font color=\"black\"> is                    </font></mark><mark style=\"background-color: hsl(0, 75%, 89%); opacity:1.0;                     line-height:1.75\"><font color=\"black\"> impact                    </font></mark><mark style=\"background-color: hsl(0, 75%, 87%); opacity:1.0;                     line-height:1.75\"><font color=\"black\"> ##ing                    </font></mark><mark style=\"background-color: hsl(0, 75%, 98%); opacity:1.0;                     line-height:1.75\"><font color=\"black\"> negatively                    </font></mark><mark style=\"background-color: hsl(0, 75%, 100%); opacity:1.0;                     line-height:1.75\"><font color=\"black\"> [SEP]                    </font></mark></td><tr></table>"
      ],
      "text/plain": [
       "<IPython.core.display.HTML object>"
      ]
     },
     "metadata": {},
     "output_type": "display_data"
    }
   ],
   "source": [
    "viz.visualize_text([result])"
   ]
  },
  {
   "cell_type": "code",
   "execution_count": 10,
   "metadata": {},
   "outputs": [
    {
     "data": {
      "image/png": "[encoded data removed]",
      "text/plain": [
       "<IPython.core.display.Image object>"
      ]
     },
     "execution_count": 10,
     "metadata": {},
     "output_type": "execute_result"
    }
   ],
   "source": [
    "import IPython.display\n",
    "IPython.display.Image(filename=\"bert_captum_visualization.png\")"
   ]
  }
 ],
 "metadata": {
  "kernelspec": {
   "display_name": "Python 3",
   "language": "python",
   "name": "python3"
  },
  "language_info": {
   "codemirror_mode": {
    "name": "ipython",
    "version": 3
   },
   "file_extension": ".py",
   "mimetype": "text/x-python",
   "name": "python",
   "nbconvert_exporter": "python",
   "pygments_lexer": "ipython3",
   "version": "3.6.9"
  }
 },
 "nbformat": 4,
 "nbformat_minor": 2
}
